{
 "cells": [
  {
   "cell_type": "code",
   "execution_count": 2,
   "metadata": {},
   "outputs": [
    {
     "name": "stdout",
     "output_type": "stream",
     "text": [
      "Defaulting to user installation because normal site-packages is not writeable\n",
      "Requirement already satisfied: psycopg2 in c:\\users\\admin\\appdata\\local\\packages\\pythonsoftwarefoundation.python.3.12_qbz5n2kfra8p0\\localcache\\local-packages\\python312\\site-packages (2.9.9)\n",
      "Note: you may need to restart the kernel to use updated packages.\n"
     ]
    },
    {
     "name": "stderr",
     "output_type": "stream",
     "text": [
      "\n",
      "[notice] A new release of pip is available: 24.0 -> 24.1.2\n",
      "[notice] To update, run: python.exe -m pip install --upgrade pip\n"
     ]
    }
   ],
   "source": [
    "pip install psycopg2"
   ]
  },
  {
   "cell_type": "code",
   "execution_count": 3,
   "metadata": {},
   "outputs": [],
   "source": [
    "import psycopg2\n",
    "import pandas as pd\n",
    "import csv"
   ]
  },
  {
   "cell_type": "code",
   "execution_count": 4,
   "metadata": {},
   "outputs": [],
   "source": [
    "# Create a database if not existing\n",
    "# try:\n",
    "#     cur.execute(\"create database Bike_Store\")\n",
    "# except psycopg2.Error as e:\n",
    "#     print(e)"
   ]
  },
  {
   "cell_type": "code",
   "execution_count": 27,
   "metadata": {},
   "outputs": [],
   "source": [
    "def create_database():\n",
    "\n",
    "    #create database connection\n",
    "    conn = psycopg2.connect(\"\"\"host=localhost \n",
    "                            dbname=postgres\n",
    "                            user=postgres \n",
    "                            password=root\n",
    "                            \"\"\")\n",
    "    #autocommit\n",
    "    conn.set_session(autocommit=True)\n",
    "    #create cursor object\n",
    "    cur=conn.cursor()\n",
    "\n",
    "    # Create bike_store database\n",
    "    cur.execute(\"DROP DATABASE IF EXISTS Bike_Store\")\n",
    "    cur.execute(\"CREATE DATABASE Bike_Store\")\n",
    "\n",
    "    # Close default db connection\n",
    "    cur.close()\n",
    "    conn.close()\n",
    "\n",
    "    #Connect to Bike_Store database\n",
    "    conn = psycopg2.connect(\"host=localhost dbname=bike_store user=postgres password=root\")\n",
    "    cur = conn.cursor()\n",
    "     \n",
    "    return cur, conn\n"
   ]
  },
  {
   "cell_type": "code",
   "execution_count": 6,
   "metadata": {},
   "outputs": [],
   "source": [
    "#load data to dataframes for manipulation before uploading\n",
    "customers = pd.read_csv('data/customers.csv')\n",
    "orders = pd.read_csv('data/orders.csv')\n",
    "order_items = pd.read_csv('data/order_items.csv')\n",
    "brands = pd.read_csv('data/brands.csv')\n",
    "categories = pd.read_csv('data/categories.csv')\n",
    "products = pd.read_csv('data/products.csv')\n",
    "staffs = pd.read_csv('data/staffs.csv')\n",
    "stocks = pd.read_csv('data/stocks.csv')\n",
    "stores = pd.read_csv('data/stores.csv')"
   ]
  },
  {
   "cell_type": "code",
   "execution_count": 7,
   "metadata": {},
   "outputs": [
    {
     "data": {
      "text/html": [
       "<div>\n",
       "<style scoped>\n",
       "    .dataframe tbody tr th:only-of-type {\n",
       "        vertical-align: middle;\n",
       "    }\n",
       "\n",
       "    .dataframe tbody tr th {\n",
       "        vertical-align: top;\n",
       "    }\n",
       "\n",
       "    .dataframe thead th {\n",
       "        text-align: right;\n",
       "    }\n",
       "</style>\n",
       "<table border=\"1\" class=\"dataframe\">\n",
       "  <thead>\n",
       "    <tr style=\"text-align: right;\">\n",
       "      <th></th>\n",
       "      <th>customer_id</th>\n",
       "      <th>first_name</th>\n",
       "      <th>last_name</th>\n",
       "      <th>phone</th>\n",
       "      <th>email</th>\n",
       "      <th>street</th>\n",
       "      <th>city</th>\n",
       "      <th>state</th>\n",
       "      <th>zip_code</th>\n",
       "    </tr>\n",
       "  </thead>\n",
       "  <tbody>\n",
       "    <tr>\n",
       "      <th>0</th>\n",
       "      <td>1</td>\n",
       "      <td>Debra</td>\n",
       "      <td>Burks</td>\n",
       "      <td>NaN</td>\n",
       "      <td>debra.burks@yahoo.com</td>\n",
       "      <td>9273 Thorne Ave.</td>\n",
       "      <td>Orchard Park</td>\n",
       "      <td>NY</td>\n",
       "      <td>14127</td>\n",
       "    </tr>\n",
       "    <tr>\n",
       "      <th>1</th>\n",
       "      <td>2</td>\n",
       "      <td>Kasha</td>\n",
       "      <td>Todd</td>\n",
       "      <td>NaN</td>\n",
       "      <td>kasha.todd@yahoo.com</td>\n",
       "      <td>910 Vine Street</td>\n",
       "      <td>Campbell</td>\n",
       "      <td>CA</td>\n",
       "      <td>95008</td>\n",
       "    </tr>\n",
       "    <tr>\n",
       "      <th>2</th>\n",
       "      <td>3</td>\n",
       "      <td>Tameka</td>\n",
       "      <td>Fisher</td>\n",
       "      <td>NaN</td>\n",
       "      <td>tameka.fisher@aol.com</td>\n",
       "      <td>769C Honey Creek St.</td>\n",
       "      <td>Redondo Beach</td>\n",
       "      <td>CA</td>\n",
       "      <td>90278</td>\n",
       "    </tr>\n",
       "    <tr>\n",
       "      <th>3</th>\n",
       "      <td>4</td>\n",
       "      <td>Daryl</td>\n",
       "      <td>Spence</td>\n",
       "      <td>NaN</td>\n",
       "      <td>daryl.spence@aol.com</td>\n",
       "      <td>988 Pearl Lane</td>\n",
       "      <td>Uniondale</td>\n",
       "      <td>NY</td>\n",
       "      <td>11553</td>\n",
       "    </tr>\n",
       "    <tr>\n",
       "      <th>4</th>\n",
       "      <td>5</td>\n",
       "      <td>Charolette</td>\n",
       "      <td>Rice</td>\n",
       "      <td>(916) 381-6003</td>\n",
       "      <td>charolette.rice@msn.com</td>\n",
       "      <td>107 River Dr.</td>\n",
       "      <td>Sacramento</td>\n",
       "      <td>CA</td>\n",
       "      <td>95820</td>\n",
       "    </tr>\n",
       "  </tbody>\n",
       "</table>\n",
       "</div>"
      ],
      "text/plain": [
       "   customer_id  first_name last_name           phone                    email  \\\n",
       "0            1       Debra     Burks             NaN    debra.burks@yahoo.com   \n",
       "1            2       Kasha      Todd             NaN     kasha.todd@yahoo.com   \n",
       "2            3      Tameka    Fisher             NaN    tameka.fisher@aol.com   \n",
       "3            4       Daryl    Spence             NaN     daryl.spence@aol.com   \n",
       "4            5  Charolette      Rice  (916) 381-6003  charolette.rice@msn.com   \n",
       "\n",
       "                  street           city state  zip_code  \n",
       "0      9273 Thorne Ave.    Orchard Park    NY     14127  \n",
       "1       910 Vine Street        Campbell    CA     95008  \n",
       "2  769C Honey Creek St.   Redondo Beach    CA     90278  \n",
       "3        988 Pearl Lane       Uniondale    NY     11553  \n",
       "4         107 River Dr.      Sacramento    CA     95820  "
      ]
     },
     "execution_count": 7,
     "metadata": {},
     "output_type": "execute_result"
    }
   ],
   "source": [
    "customers.head()"
   ]
  },
  {
   "cell_type": "code",
   "execution_count": 8,
   "metadata": {},
   "outputs": [
    {
     "data": {
      "text/html": [
       "<div>\n",
       "<style scoped>\n",
       "    .dataframe tbody tr th:only-of-type {\n",
       "        vertical-align: middle;\n",
       "    }\n",
       "\n",
       "    .dataframe tbody tr th {\n",
       "        vertical-align: top;\n",
       "    }\n",
       "\n",
       "    .dataframe thead th {\n",
       "        text-align: right;\n",
       "    }\n",
       "</style>\n",
       "<table border=\"1\" class=\"dataframe\">\n",
       "  <thead>\n",
       "    <tr style=\"text-align: right;\">\n",
       "      <th></th>\n",
       "      <th>customer_id</th>\n",
       "      <th>first_name</th>\n",
       "      <th>last_name</th>\n",
       "      <th>street</th>\n",
       "      <th>city</th>\n",
       "      <th>state</th>\n",
       "      <th>zip_code</th>\n",
       "    </tr>\n",
       "  </thead>\n",
       "  <tbody>\n",
       "    <tr>\n",
       "      <th>0</th>\n",
       "      <td>1</td>\n",
       "      <td>Debra</td>\n",
       "      <td>Burks</td>\n",
       "      <td>9273 Thorne Ave.</td>\n",
       "      <td>Orchard Park</td>\n",
       "      <td>NY</td>\n",
       "      <td>14127</td>\n",
       "    </tr>\n",
       "    <tr>\n",
       "      <th>1</th>\n",
       "      <td>2</td>\n",
       "      <td>Kasha</td>\n",
       "      <td>Todd</td>\n",
       "      <td>910 Vine Street</td>\n",
       "      <td>Campbell</td>\n",
       "      <td>CA</td>\n",
       "      <td>95008</td>\n",
       "    </tr>\n",
       "    <tr>\n",
       "      <th>2</th>\n",
       "      <td>3</td>\n",
       "      <td>Tameka</td>\n",
       "      <td>Fisher</td>\n",
       "      <td>769C Honey Creek St.</td>\n",
       "      <td>Redondo Beach</td>\n",
       "      <td>CA</td>\n",
       "      <td>90278</td>\n",
       "    </tr>\n",
       "    <tr>\n",
       "      <th>3</th>\n",
       "      <td>4</td>\n",
       "      <td>Daryl</td>\n",
       "      <td>Spence</td>\n",
       "      <td>988 Pearl Lane</td>\n",
       "      <td>Uniondale</td>\n",
       "      <td>NY</td>\n",
       "      <td>11553</td>\n",
       "    </tr>\n",
       "    <tr>\n",
       "      <th>4</th>\n",
       "      <td>5</td>\n",
       "      <td>Charolette</td>\n",
       "      <td>Rice</td>\n",
       "      <td>107 River Dr.</td>\n",
       "      <td>Sacramento</td>\n",
       "      <td>CA</td>\n",
       "      <td>95820</td>\n",
       "    </tr>\n",
       "  </tbody>\n",
       "</table>\n",
       "</div>"
      ],
      "text/plain": [
       "   customer_id  first_name last_name                 street           city  \\\n",
       "0            1       Debra     Burks      9273 Thorne Ave.    Orchard Park   \n",
       "1            2       Kasha      Todd       910 Vine Street        Campbell   \n",
       "2            3      Tameka    Fisher  769C Honey Creek St.   Redondo Beach   \n",
       "3            4       Daryl    Spence        988 Pearl Lane       Uniondale   \n",
       "4            5  Charolette      Rice         107 River Dr.      Sacramento   \n",
       "\n",
       "  state  zip_code  \n",
       "0    NY     14127  \n",
       "1    CA     95008  \n",
       "2    CA     90278  \n",
       "3    NY     11553  \n",
       "4    CA     95820  "
      ]
     },
     "execution_count": 8,
     "metadata": {},
     "output_type": "execute_result"
    }
   ],
   "source": [
    "# remove PII\n",
    "customers.drop(['phone','email'], axis=1, inplace=True)\n",
    "customers.head()"
   ]
  },
  {
   "cell_type": "code",
   "execution_count": 30,
   "metadata": {},
   "outputs": [],
   "source": [
    "cur, conn = create_database()"
   ]
  },
  {
   "cell_type": "code",
   "execution_count": 36,
   "metadata": {},
   "outputs": [],
   "source": [
    "# \"\"\" \"\"\" are sused for creating multi-line strings or docstring\n",
    "customer_table = (\"\"\"CREATE TABLE IF NOT EXISTS Customers(customer_id INT PRIMARY KEY, \n",
    "                  first_name VARCHAR (255) NOT NULL, \n",
    "                  last_name VARCHAR (255) NOT NULL, \n",
    "                  street VARCHAR (255),\n",
    "                  city VARCHAR (50),\n",
    "                  state VARCHAR (25),\n",
    "                  zip_code VARCHAR (5)\n",
    "                  );\"\"\")"
   ]
  },
  {
   "cell_type": "code",
   "execution_count": null,
   "metadata": {},
   "outputs": [],
   "source": [
    "order_items_table =(\"\"\"CREATE TABLE IF NOT EXISTS Order_items(\n",
    "                    order_id INT,\n",
    "\t                item_id INT,\n",
    "\t                product_id INT NOT NULL,\n",
    "\t                quantity INT NOT NULL,\n",
    "\t                list_price DECIMAL (10, 2) NOT NULL,\n",
    "\t                discount DECIMAL (4, 2) NOT NULL DEFAULT 0,\n",
    "\t                PRIMARY KEY (order_id, item_id),\n",
    "\t                FOREIGN KEY (order_id) REFERENCES sales.orders (order_id) ON DELETE CASCADE ON UPDATE CASCADE,\n",
    "\t                FOREIGN KEY (product_id) REFERENCES production.products (product_id) ON DELETE CASCADE ON UPDATE CASCADE\n",
    "                    );\n",
    "                    \"\"\")"
   ]
  },
  {
   "cell_type": "code",
   "execution_count": null,
   "metadata": {},
   "outputs": [],
   "source": [
    "orders_table =(\"\"\"CREATE TABLE IF NOT EXISTS Orders(\n",
    "                order_id INT IDENTITY (1, 1) PRIMARY KEY,\n",
    "\t            customer_id INT,\n",
    "\t            order_status tinyint NOT NULL,\n",
    "\t            -- Order status: 1 = Pending; 2 = Processing; 3 = Rejected; 4 = Completed\n",
    "\t            order_date DATE NOT NULL,\n",
    "\t            required_date DATE NOT NULL,\n",
    "\t            shipped_date DATE,\n",
    "\t            store_id INT NOT NULL,\n",
    "\t            staff_id INT NOT NULL,\n",
    "\t            FOREIGN KEY (customer_id) REFERENCES sales.customers (customer_id) ON DELETE CASCADE ON UPDATE CASCADE,\n",
    "\t            FOREIGN KEY (store_id) REFERENCES sales.stores (store_id) ON DELETE CASCADE ON UPDATE CASCADE,\n",
    "\t            FOREIGN KEY (staff_id) REFERENCES sales.staffs (staff_id) ON DELETE NO ACTION ON UPDATE NO ACTION\n",
    "                );\n",
    "                \"\"\")"
   ]
  },
  {
   "cell_type": "code",
   "execution_count": 37,
   "metadata": {},
   "outputs": [],
   "source": [
    "cur.execute(customer_table)\n",
    "conn.commit()"
   ]
  }
 ],
 "metadata": {
  "kernelspec": {
   "display_name": "Python 3",
   "language": "python",
   "name": "python3"
  },
  "language_info": {
   "codemirror_mode": {
    "name": "ipython",
    "version": 3
   },
   "file_extension": ".py",
   "mimetype": "text/x-python",
   "name": "python",
   "nbconvert_exporter": "python",
   "pygments_lexer": "ipython3",
   "version": "3.12.4"
  }
 },
 "nbformat": 4,
 "nbformat_minor": 2
}
