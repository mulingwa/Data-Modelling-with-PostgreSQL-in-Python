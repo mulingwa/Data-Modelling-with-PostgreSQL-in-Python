{
 "cells": [
  {
   "cell_type": "code",
   "execution_count": 1,
   "metadata": {},
   "outputs": [
    {
     "name": "stdout",
     "output_type": "stream",
     "text": [
      "Defaulting to user installation because normal site-packages is not writeable\n",
      "Requirement already satisfied: psycopg2 in c:\\users\\admin\\appdata\\local\\packages\\pythonsoftwarefoundation.python.3.12_qbz5n2kfra8p0\\localcache\\local-packages\\python312\\site-packages (2.9.9)\n",
      "Note: you may need to restart the kernel to use updated packages.\n"
     ]
    }
   ],
   "source": [
    "pip install psycopg2"
   ]
  },
  {
   "cell_type": "code",
   "execution_count": 2,
   "metadata": {},
   "outputs": [],
   "source": [
    "#pip install --upgrade pip"
   ]
  },
  {
   "cell_type": "code",
   "execution_count": 3,
   "metadata": {},
   "outputs": [],
   "source": [
    "import psycopg2\n",
    "import pandas as pd\n",
    "import csv\n",
    "import os\n",
    "from pathlib import Path"
   ]
  },
  {
   "cell_type": "markdown",
   "metadata": {},
   "source": [
    "## Extraction"
   ]
  },
  {
   "cell_type": "code",
   "execution_count": 4,
   "metadata": {},
   "outputs": [],
   "source": [
    "def extract(folder_path):\n",
    "    \"\"\"\n",
    "    Load all CSV files in the given folder into dataFrames.\n",
    "    \n",
    "    Args:\n",
    "        folder_path (str or Path): Path to the folder containing CSV files.\n",
    "\n",
    "    Returns:\n",
    "        dict: A dictionary with file names as keys and DataFrames as values.\n",
    "    \"\"\"\n",
    "    data_folder = Path(folder_path)\n",
    "    csv_files = list(data_folder.glob(\"*.csv\"))\n",
    "    dfs = {}\n",
    "\n",
    "    for file_path in csv_files:\n",
    "        try:\n",
    "            df = pd.read_csv(file_path)\n",
    "            key = file_path.stem.replace(\" \",\"_\").lower()\n",
    "            dfs[key] = df\n",
    "            dataframes[file_path.name] = df\n",
    "            print(f\"Loaded: {file_path.name} dfs['{key}'], {df.shape[0]} rows {df.shape[1]} cols\")\n",
    "        except pd.errors.EmptyDataError:\n",
    "            print(f\"Skipped (empty): {file_path.name}\")\n",
    "        except pd.errors.ParserError:\n",
    "            print(f\"Skipped (parser error): {file_path.name}\")\n",
    "        except Exception as e:\n",
    "            print(f\"Failed to load {file_path.name}: {e}\")\n",
    "    return dfs\n"
   ]
  },
  {
   "cell_type": "code",
   "execution_count": 5,
   "metadata": {},
   "outputs": [
    {
     "name": "stdout",
     "output_type": "stream",
     "text": [
      "Failed to load brands.csv: name 'dataframes' is not defined\n",
      "Failed to load categories.csv: name 'dataframes' is not defined\n",
      "Failed to load customers.csv: name 'dataframes' is not defined\n",
      "Failed to load orders.csv: name 'dataframes' is not defined\n",
      "Failed to load order_items.csv: name 'dataframes' is not defined\n",
      "Failed to load products.csv: name 'dataframes' is not defined\n",
      "Failed to load staffs.csv: name 'dataframes' is not defined\n",
      "Failed to load stocks.csv: name 'dataframes' is not defined\n",
      "Failed to load stores.csv: name 'dataframes' is not defined\n"
     ]
    }
   ],
   "source": [
    "df = extract('data')"
   ]
  },
  {
   "cell_type": "markdown",
   "metadata": {},
   "source": [
    "## Transform"
   ]
  },
  {
   "cell_type": "code",
   "execution_count": 6,
   "metadata": {},
   "outputs": [
    {
     "data": {
      "text/html": [
       "<div>\n",
       "<style scoped>\n",
       "    .dataframe tbody tr th:only-of-type {\n",
       "        vertical-align: middle;\n",
       "    }\n",
       "\n",
       "    .dataframe tbody tr th {\n",
       "        vertical-align: top;\n",
       "    }\n",
       "\n",
       "    .dataframe thead th {\n",
       "        text-align: right;\n",
       "    }\n",
       "</style>\n",
       "<table border=\"1\" class=\"dataframe\">\n",
       "  <thead>\n",
       "    <tr style=\"text-align: right;\">\n",
       "      <th></th>\n",
       "      <th>customer_id</th>\n",
       "      <th>first_name</th>\n",
       "      <th>last_name</th>\n",
       "      <th>phone</th>\n",
       "      <th>email</th>\n",
       "      <th>street</th>\n",
       "      <th>city</th>\n",
       "      <th>state</th>\n",
       "      <th>zip_code</th>\n",
       "    </tr>\n",
       "  </thead>\n",
       "  <tbody>\n",
       "    <tr>\n",
       "      <th>0</th>\n",
       "      <td>1</td>\n",
       "      <td>Debra</td>\n",
       "      <td>Burks</td>\n",
       "      <td>NaN</td>\n",
       "      <td>debra.burks@yahoo.com</td>\n",
       "      <td>9273 Thorne Ave.</td>\n",
       "      <td>Orchard Park</td>\n",
       "      <td>NY</td>\n",
       "      <td>14127</td>\n",
       "    </tr>\n",
       "    <tr>\n",
       "      <th>1</th>\n",
       "      <td>2</td>\n",
       "      <td>Kasha</td>\n",
       "      <td>Todd</td>\n",
       "      <td>NaN</td>\n",
       "      <td>kasha.todd@yahoo.com</td>\n",
       "      <td>910 Vine Street</td>\n",
       "      <td>Campbell</td>\n",
       "      <td>CA</td>\n",
       "      <td>95008</td>\n",
       "    </tr>\n",
       "    <tr>\n",
       "      <th>2</th>\n",
       "      <td>3</td>\n",
       "      <td>Tameka</td>\n",
       "      <td>Fisher</td>\n",
       "      <td>NaN</td>\n",
       "      <td>tameka.fisher@aol.com</td>\n",
       "      <td>769C Honey Creek St.</td>\n",
       "      <td>Redondo Beach</td>\n",
       "      <td>CA</td>\n",
       "      <td>90278</td>\n",
       "    </tr>\n",
       "    <tr>\n",
       "      <th>3</th>\n",
       "      <td>4</td>\n",
       "      <td>Daryl</td>\n",
       "      <td>Spence</td>\n",
       "      <td>NaN</td>\n",
       "      <td>daryl.spence@aol.com</td>\n",
       "      <td>988 Pearl Lane</td>\n",
       "      <td>Uniondale</td>\n",
       "      <td>NY</td>\n",
       "      <td>11553</td>\n",
       "    </tr>\n",
       "    <tr>\n",
       "      <th>4</th>\n",
       "      <td>5</td>\n",
       "      <td>Charolette</td>\n",
       "      <td>Rice</td>\n",
       "      <td>(916) 381-6003</td>\n",
       "      <td>charolette.rice@msn.com</td>\n",
       "      <td>107 River Dr.</td>\n",
       "      <td>Sacramento</td>\n",
       "      <td>CA</td>\n",
       "      <td>95820</td>\n",
       "    </tr>\n",
       "  </tbody>\n",
       "</table>\n",
       "</div>"
      ],
      "text/plain": [
       "   customer_id  first_name last_name           phone                    email  \\\n",
       "0            1       Debra     Burks             NaN    debra.burks@yahoo.com   \n",
       "1            2       Kasha      Todd             NaN     kasha.todd@yahoo.com   \n",
       "2            3      Tameka    Fisher             NaN    tameka.fisher@aol.com   \n",
       "3            4       Daryl    Spence             NaN     daryl.spence@aol.com   \n",
       "4            5  Charolette      Rice  (916) 381-6003  charolette.rice@msn.com   \n",
       "\n",
       "                  street           city state  zip_code  \n",
       "0      9273 Thorne Ave.    Orchard Park    NY     14127  \n",
       "1       910 Vine Street        Campbell    CA     95008  \n",
       "2  769C Honey Creek St.   Redondo Beach    CA     90278  \n",
       "3        988 Pearl Lane       Uniondale    NY     11553  \n",
       "4         107 River Dr.      Sacramento    CA     95820  "
      ]
     },
     "execution_count": 6,
     "metadata": {},
     "output_type": "execute_result"
    }
   ],
   "source": [
    "df['customers'].head()"
   ]
  },
  {
   "cell_type": "code",
   "execution_count": 7,
   "metadata": {},
   "outputs": [],
   "source": [
    "import hashlib"
   ]
  },
  {
   "cell_type": "code",
   "execution_count": 8,
   "metadata": {},
   "outputs": [
    {
     "data": {
      "text/html": [
       "<div>\n",
       "<style scoped>\n",
       "    .dataframe tbody tr th:only-of-type {\n",
       "        vertical-align: middle;\n",
       "    }\n",
       "\n",
       "    .dataframe tbody tr th {\n",
       "        vertical-align: top;\n",
       "    }\n",
       "\n",
       "    .dataframe thead th {\n",
       "        text-align: right;\n",
       "    }\n",
       "</style>\n",
       "<table border=\"1\" class=\"dataframe\">\n",
       "  <thead>\n",
       "    <tr style=\"text-align: right;\">\n",
       "      <th></th>\n",
       "      <th>customer_id</th>\n",
       "      <th>first_name</th>\n",
       "      <th>last_name</th>\n",
       "      <th>phone</th>\n",
       "      <th>email</th>\n",
       "      <th>street</th>\n",
       "      <th>city</th>\n",
       "      <th>state</th>\n",
       "      <th>zip_code</th>\n",
       "    </tr>\n",
       "  </thead>\n",
       "  <tbody>\n",
       "    <tr>\n",
       "      <th>0</th>\n",
       "      <td>1</td>\n",
       "      <td>Debra</td>\n",
       "      <td>Burks</td>\n",
       "      <td>NaN</td>\n",
       "      <td>debra.burks@yahoo.com</td>\n",
       "      <td>9273 Thorne Ave.</td>\n",
       "      <td>Orchard Park</td>\n",
       "      <td>NY</td>\n",
       "      <td>14127</td>\n",
       "    </tr>\n",
       "    <tr>\n",
       "      <th>1</th>\n",
       "      <td>2</td>\n",
       "      <td>Kasha</td>\n",
       "      <td>Todd</td>\n",
       "      <td>NaN</td>\n",
       "      <td>kasha.todd@yahoo.com</td>\n",
       "      <td>910 Vine Street</td>\n",
       "      <td>Campbell</td>\n",
       "      <td>CA</td>\n",
       "      <td>95008</td>\n",
       "    </tr>\n",
       "    <tr>\n",
       "      <th>2</th>\n",
       "      <td>3</td>\n",
       "      <td>Tameka</td>\n",
       "      <td>Fisher</td>\n",
       "      <td>NaN</td>\n",
       "      <td>tameka.fisher@aol.com</td>\n",
       "      <td>769C Honey Creek St.</td>\n",
       "      <td>Redondo Beach</td>\n",
       "      <td>CA</td>\n",
       "      <td>90278</td>\n",
       "    </tr>\n",
       "    <tr>\n",
       "      <th>3</th>\n",
       "      <td>4</td>\n",
       "      <td>Daryl</td>\n",
       "      <td>Spence</td>\n",
       "      <td>NaN</td>\n",
       "      <td>daryl.spence@aol.com</td>\n",
       "      <td>988 Pearl Lane</td>\n",
       "      <td>Uniondale</td>\n",
       "      <td>NY</td>\n",
       "      <td>11553</td>\n",
       "    </tr>\n",
       "    <tr>\n",
       "      <th>4</th>\n",
       "      <td>5</td>\n",
       "      <td>Charolette</td>\n",
       "      <td>Rice</td>\n",
       "      <td>(916) 381-6003</td>\n",
       "      <td>charolette.rice@msn.com</td>\n",
       "      <td>107 River Dr.</td>\n",
       "      <td>Sacramento</td>\n",
       "      <td>CA</td>\n",
       "      <td>95820</td>\n",
       "    </tr>\n",
       "  </tbody>\n",
       "</table>\n",
       "</div>"
      ],
      "text/plain": [
       "   customer_id  first_name last_name           phone                    email  \\\n",
       "0            1       Debra     Burks             NaN    debra.burks@yahoo.com   \n",
       "1            2       Kasha      Todd             NaN     kasha.todd@yahoo.com   \n",
       "2            3      Tameka    Fisher             NaN    tameka.fisher@aol.com   \n",
       "3            4       Daryl    Spence             NaN     daryl.spence@aol.com   \n",
       "4            5  Charolette      Rice  (916) 381-6003  charolette.rice@msn.com   \n",
       "\n",
       "                  street           city state  zip_code  \n",
       "0      9273 Thorne Ave.    Orchard Park    NY     14127  \n",
       "1       910 Vine Street        Campbell    CA     95008  \n",
       "2  769C Honey Creek St.   Redondo Beach    CA     90278  \n",
       "3        988 Pearl Lane       Uniondale    NY     11553  \n",
       "4         107 River Dr.      Sacramento    CA     95820  "
      ]
     },
     "execution_count": 8,
     "metadata": {},
     "output_type": "execute_result"
    }
   ],
   "source": [
    "customers = df[\"customers\"]\n",
    "customers.head()"
   ]
  },
  {
   "cell_type": "code",
   "execution_count": 9,
   "metadata": {},
   "outputs": [
    {
     "data": {
      "text/html": [
       "<div>\n",
       "<style scoped>\n",
       "    .dataframe tbody tr th:only-of-type {\n",
       "        vertical-align: middle;\n",
       "    }\n",
       "\n",
       "    .dataframe tbody tr th {\n",
       "        vertical-align: top;\n",
       "    }\n",
       "\n",
       "    .dataframe thead th {\n",
       "        text-align: right;\n",
       "    }\n",
       "</style>\n",
       "<table border=\"1\" class=\"dataframe\">\n",
       "  <thead>\n",
       "    <tr style=\"text-align: right;\">\n",
       "      <th></th>\n",
       "      <th>customer_id</th>\n",
       "      <th>first_name</th>\n",
       "      <th>last_name</th>\n",
       "      <th>phone</th>\n",
       "      <th>email</th>\n",
       "      <th>street</th>\n",
       "      <th>city</th>\n",
       "      <th>state</th>\n",
       "      <th>zip_code</th>\n",
       "    </tr>\n",
       "  </thead>\n",
       "  <tbody>\n",
       "    <tr>\n",
       "      <th>0</th>\n",
       "      <td>1</td>\n",
       "      <td>Debra</td>\n",
       "      <td>Burks</td>\n",
       "      <td></td>\n",
       "      <td>80d3fb98b10fa0cb880d7ea7ce6e673a3740e3c15138af...</td>\n",
       "      <td>9273 Thorne Ave.</td>\n",
       "      <td>Orchard Park</td>\n",
       "      <td>NY</td>\n",
       "      <td>14127</td>\n",
       "    </tr>\n",
       "    <tr>\n",
       "      <th>1</th>\n",
       "      <td>2</td>\n",
       "      <td>Kasha</td>\n",
       "      <td>Todd</td>\n",
       "      <td></td>\n",
       "      <td>14963ce86476128ab360ceb6ff80a1b377a0aa531d204c...</td>\n",
       "      <td>910 Vine Street</td>\n",
       "      <td>Campbell</td>\n",
       "      <td>CA</td>\n",
       "      <td>95008</td>\n",
       "    </tr>\n",
       "    <tr>\n",
       "      <th>2</th>\n",
       "      <td>3</td>\n",
       "      <td>Tameka</td>\n",
       "      <td>Fisher</td>\n",
       "      <td></td>\n",
       "      <td>cd85931dec22b5276e6ca71d9e2d5f6adc99cda2992a6c...</td>\n",
       "      <td>769C Honey Creek St.</td>\n",
       "      <td>Redondo Beach</td>\n",
       "      <td>CA</td>\n",
       "      <td>90278</td>\n",
       "    </tr>\n",
       "    <tr>\n",
       "      <th>3</th>\n",
       "      <td>4</td>\n",
       "      <td>Daryl</td>\n",
       "      <td>Spence</td>\n",
       "      <td></td>\n",
       "      <td>7e724a8da0c75960dc02b4affd782c570921403b17fbdb...</td>\n",
       "      <td>988 Pearl Lane</td>\n",
       "      <td>Uniondale</td>\n",
       "      <td>NY</td>\n",
       "      <td>11553</td>\n",
       "    </tr>\n",
       "    <tr>\n",
       "      <th>4</th>\n",
       "      <td>5</td>\n",
       "      <td>Charolette</td>\n",
       "      <td>Rice</td>\n",
       "      <td>3d73364c47e5bcef4aa230e9d31b8d1bc10d4ae5b1b0c2...</td>\n",
       "      <td>0963fe709fbfbb928cb8a0de6132b82454215188c6131c...</td>\n",
       "      <td>107 River Dr.</td>\n",
       "      <td>Sacramento</td>\n",
       "      <td>CA</td>\n",
       "      <td>95820</td>\n",
       "    </tr>\n",
       "  </tbody>\n",
       "</table>\n",
       "</div>"
      ],
      "text/plain": [
       "   customer_id  first_name last_name  \\\n",
       "0            1       Debra     Burks   \n",
       "1            2       Kasha      Todd   \n",
       "2            3      Tameka    Fisher   \n",
       "3            4       Daryl    Spence   \n",
       "4            5  Charolette      Rice   \n",
       "\n",
       "                                               phone  \\\n",
       "0                                                      \n",
       "1                                                      \n",
       "2                                                      \n",
       "3                                                      \n",
       "4  3d73364c47e5bcef4aa230e9d31b8d1bc10d4ae5b1b0c2...   \n",
       "\n",
       "                                               email                 street  \\\n",
       "0  80d3fb98b10fa0cb880d7ea7ce6e673a3740e3c15138af...      9273 Thorne Ave.    \n",
       "1  14963ce86476128ab360ceb6ff80a1b377a0aa531d204c...       910 Vine Street    \n",
       "2  cd85931dec22b5276e6ca71d9e2d5f6adc99cda2992a6c...  769C Honey Creek St.    \n",
       "3  7e724a8da0c75960dc02b4affd782c570921403b17fbdb...        988 Pearl Lane    \n",
       "4  0963fe709fbfbb928cb8a0de6132b82454215188c6131c...         107 River Dr.    \n",
       "\n",
       "            city state  zip_code  \n",
       "0   Orchard Park    NY     14127  \n",
       "1       Campbell    CA     95008  \n",
       "2  Redondo Beach    CA     90278  \n",
       "3      Uniondale    NY     11553  \n",
       "4     Sacramento    CA     95820  "
      ]
     },
     "execution_count": 9,
     "metadata": {},
     "output_type": "execute_result"
    }
   ],
   "source": [
    "# remove PII\n",
    "#assumptions are that the null phone numbers will be updated at some point\n",
    "def hash_value(val):\n",
    "    if pd.isna(val):\n",
    "        return \"\"\n",
    "    return hashlib.sha256(str(val).encode(\"utf-8\")).hexdigest()\n",
    "\n",
    "df[\"customers\"][\"phone\"] = df[\"customers\"][\"phone\"].apply(hash_value)\n",
    "df[\"customers\"][\"email\"] = df[\"customers\"][\"email\"].apply(hash_value)\n",
    "df[\"customers\"].head()"
   ]
  },
  {
   "cell_type": "code",
   "execution_count": 10,
   "metadata": {},
   "outputs": [
    {
     "data": {
      "text/html": [
       "<div>\n",
       "<style scoped>\n",
       "    .dataframe tbody tr th:only-of-type {\n",
       "        vertical-align: middle;\n",
       "    }\n",
       "\n",
       "    .dataframe tbody tr th {\n",
       "        vertical-align: top;\n",
       "    }\n",
       "\n",
       "    .dataframe thead th {\n",
       "        text-align: right;\n",
       "    }\n",
       "</style>\n",
       "<table border=\"1\" class=\"dataframe\">\n",
       "  <thead>\n",
       "    <tr style=\"text-align: right;\">\n",
       "      <th></th>\n",
       "      <th>staff_id</th>\n",
       "      <th>first_name</th>\n",
       "      <th>last_name</th>\n",
       "      <th>email</th>\n",
       "      <th>phone</th>\n",
       "      <th>active</th>\n",
       "      <th>store_id</th>\n",
       "      <th>manager_id</th>\n",
       "    </tr>\n",
       "  </thead>\n",
       "  <tbody>\n",
       "    <tr>\n",
       "      <th>0</th>\n",
       "      <td>1</td>\n",
       "      <td>Fabiola</td>\n",
       "      <td>Jackson</td>\n",
       "      <td>fabiola.jackson@bikes.shop</td>\n",
       "      <td>(831) 555-5554</td>\n",
       "      <td>1</td>\n",
       "      <td>1</td>\n",
       "      <td>NaN</td>\n",
       "    </tr>\n",
       "    <tr>\n",
       "      <th>1</th>\n",
       "      <td>2</td>\n",
       "      <td>Mireya</td>\n",
       "      <td>Copeland</td>\n",
       "      <td>mireya.copeland@bikes.shop</td>\n",
       "      <td>(831) 555-5555</td>\n",
       "      <td>1</td>\n",
       "      <td>1</td>\n",
       "      <td>1.0</td>\n",
       "    </tr>\n",
       "    <tr>\n",
       "      <th>2</th>\n",
       "      <td>3</td>\n",
       "      <td>Genna</td>\n",
       "      <td>Serrano</td>\n",
       "      <td>genna.serrano@bikes.shop</td>\n",
       "      <td>(831) 555-5556</td>\n",
       "      <td>1</td>\n",
       "      <td>1</td>\n",
       "      <td>2.0</td>\n",
       "    </tr>\n",
       "    <tr>\n",
       "      <th>3</th>\n",
       "      <td>4</td>\n",
       "      <td>Virgie</td>\n",
       "      <td>Wiggins</td>\n",
       "      <td>virgie.wiggins@bikes.shop</td>\n",
       "      <td>(831) 555-5557</td>\n",
       "      <td>1</td>\n",
       "      <td>1</td>\n",
       "      <td>2.0</td>\n",
       "    </tr>\n",
       "    <tr>\n",
       "      <th>4</th>\n",
       "      <td>5</td>\n",
       "      <td>Jannette</td>\n",
       "      <td>David</td>\n",
       "      <td>jannette.david@bikes.shop</td>\n",
       "      <td>(516) 379-4444</td>\n",
       "      <td>1</td>\n",
       "      <td>2</td>\n",
       "      <td>1.0</td>\n",
       "    </tr>\n",
       "  </tbody>\n",
       "</table>\n",
       "</div>"
      ],
      "text/plain": [
       "   staff_id first_name last_name                       email           phone  \\\n",
       "0         1    Fabiola   Jackson  fabiola.jackson@bikes.shop  (831) 555-5554   \n",
       "1         2     Mireya  Copeland  mireya.copeland@bikes.shop  (831) 555-5555   \n",
       "2         3      Genna   Serrano    genna.serrano@bikes.shop  (831) 555-5556   \n",
       "3         4     Virgie   Wiggins   virgie.wiggins@bikes.shop  (831) 555-5557   \n",
       "4         5   Jannette     David   jannette.david@bikes.shop  (516) 379-4444   \n",
       "\n",
       "   active  store_id  manager_id  \n",
       "0       1         1         NaN  \n",
       "1       1         1         1.0  \n",
       "2       1         1         2.0  \n",
       "3       1         1         2.0  \n",
       "4       1         2         1.0  "
      ]
     },
     "execution_count": 10,
     "metadata": {},
     "output_type": "execute_result"
    }
   ],
   "source": [
    "df[\"staffs\"].head()"
   ]
  },
  {
   "cell_type": "code",
   "execution_count": 11,
   "metadata": {},
   "outputs": [],
   "source": [
    "df[\"staffs\"][\"phone\"] = df[\"staffs\"][\"phone\"].apply(hash_value)\n",
    "df[\"staffs\"][\"email\"] = df[\"staffs\"][\"email\"].apply(hash_value)"
   ]
  },
  {
   "cell_type": "markdown",
   "metadata": {},
   "source": [
    "## Loading"
   ]
  },
  {
   "cell_type": "code",
   "execution_count": 12,
   "metadata": {},
   "outputs": [
    {
     "name": "stdout",
     "output_type": "stream",
     "text": [
      "Defaulting to user installation because normal site-packages is not writeableNote: you may need to restart the kernel to use updated packages.\n",
      "\n",
      "Requirement already satisfied: dotenv in c:\\users\\admin\\appdata\\local\\packages\\pythonsoftwarefoundation.python.3.12_qbz5n2kfra8p0\\localcache\\local-packages\\python312\\site-packages (0.9.9)\n",
      "Requirement already satisfied: python-dotenv in c:\\users\\admin\\appdata\\local\\packages\\pythonsoftwarefoundation.python.3.12_qbz5n2kfra8p0\\localcache\\local-packages\\python312\\site-packages (from dotenv) (1.1.1)\n"
     ]
    }
   ],
   "source": [
    "pip install dotenv"
   ]
  },
  {
   "cell_type": "code",
   "execution_count": 13,
   "metadata": {},
   "outputs": [],
   "source": [
    "from sqlalchemy import create_engine\n",
    "from dotenv import load_dotenv\n",
    "from sqlalchemy.exc import SQLAlchemyError\n",
    "from sqlalchemy import text\n"
   ]
  },
  {
   "cell_type": "code",
   "execution_count": 14,
   "metadata": {},
   "outputs": [],
   "source": [
    "def create_database():\n",
    "    # Load .env variables\n",
    "    load_dotenv()\n",
    "\n",
    "    # Fetch DB credentials\n",
    "    db_host = os.getenv(\"DB_HOST\")\n",
    "    db_port = os.getenv(\"DB_PORT\", \"5432\")\n",
    "    db_name = os.getenv(\"DB_NAME\")\n",
    "    db_user = os.getenv(\"DB_USER\")\n",
    "    db_password = os.getenv(\"DB_PASSWORD\")\n",
    "    # Create database connection to default DB\n",
    "    conn = psycopg2.connect(f\"\"\"host={db_host} \n",
    "                                dbname={db_name}\n",
    "                                user={db_user} \n",
    "                                password={db_password}\n",
    "                             \"\"\")\n",
    "    # Autocommit\n",
    "    conn.set_session(autocommit=True)\n",
    "    \n",
    "    # Create cursor object\n",
    "    cur = conn.cursor()\n",
    "\n",
    "    # Create bike_store database\n",
    "    cur.execute(\"DROP DATABASE IF EXISTS Bike_Store\")\n",
    "    cur.execute(\"CREATE DATABASE Bike_Store\")\n",
    "\n",
    "    # Close default db connection\n",
    "    cur.close()\n",
    "    conn.close()\n",
    "\n",
    "    # Connect to Bike_Store database\n",
    "    conn = psycopg2.connect(f\"host={db_host} dbname=bike_store user={db_user} password={db_password}\")\n",
    "    cur = conn.cursor()\n",
    "\n",
    "    return cur, conn"
   ]
  },
  {
   "cell_type": "code",
   "execution_count": 15,
   "metadata": {},
   "outputs": [],
   "source": [
    "cur, conn = create_database()"
   ]
  },
  {
   "cell_type": "code",
   "execution_count": 16,
   "metadata": {},
   "outputs": [
    {
     "name": "stdout",
     "output_type": "stream",
     "text": [
      "('bike_store',)\n"
     ]
    }
   ],
   "source": [
    "cur.execute(\"SELECT current_database();\")\n",
    "print(cur.fetchone())"
   ]
  },
  {
   "cell_type": "code",
   "execution_count": 17,
   "metadata": {},
   "outputs": [],
   "source": [
    "\n",
    "tables = {\n",
    "    (\"customer_table\",\"\"\"CREATE TABLE IF NOT EXISTS Customers(customer_id INT PRIMARY KEY, \n",
    "                  first_name VARCHAR (255) NOT NULL, \n",
    "                  last_name VARCHAR (255) NOT NULL, \n",
    "                  street VARCHAR (255),\n",
    "                  city VARCHAR (50),\n",
    "                  state VARCHAR (25),\n",
    "                  zip_code VARCHAR (5)\n",
    "                  );\n",
    "                  \"\"\"),\n",
    "                  \n",
    "    (\"orders\",\"\"\"CREATE TABLE IF NOT EXISTS Orders(\n",
    "                order_id INT PRIMARY KEY,\n",
    "\t            customer_id INT,\n",
    "\t            order_status INT NOT NULL,\n",
    "\t            -- Order status: 1 = Pending; 2 = Processing; 3 = Rejected; 4 = Completed\n",
    "\t            order_date DATE NOT NULL,\n",
    "\t            required_date DATE NOT NULL,\n",
    "\t            shipped_date DATE,\n",
    "\t            store_id INT NOT NULL,\n",
    "\t            staff_id INT NOT NULL,\n",
    "\t            FOREIGN KEY (customer_id) REFERENCES customers (customer_id) ON DELETE CASCADE ON UPDATE CASCADE,\n",
    "\t            FOREIGN KEY (store_id) REFERENCES stores (store_id) ON DELETE CASCADE ON UPDATE CASCADE,\n",
    "\t            FOREIGN KEY (staff_id) REFERENCES staff (staff_id) ON DELETE NO ACTION ON UPDATE NO ACTION\n",
    "                );\n",
    "                \"\"\"),\n",
    "\n",
    "    (\"order_items\",\"\"\"CREATE TABLE IF NOT EXISTS Order_items(\n",
    "                    order_id INT,\n",
    "\t                item_id INT,\n",
    "\t                product_id INT NOT NULL,\n",
    "\t                quantity INT NOT NULL,\n",
    "\t                list_price DECIMAL (10, 2) NOT NULL,\n",
    "\t                discount DECIMAL (4, 2) NOT NULL DEFAULT 0,\n",
    "\t                PRIMARY KEY (order_id, item_id),\n",
    "\t                FOREIGN KEY (order_id) REFERENCES orders (order_id) ON DELETE CASCADE ON UPDATE CASCADE,\n",
    "\t                FOREIGN KEY (product_id) REFERENCES products (product_id) ON DELETE CASCADE ON UPDATE CASCADE\n",
    "                    );\n",
    "                    \"\"\"),\n",
    "\n",
    "    (\"stores\",\"\"\"CREATE TABLE IF NOT EXISTS Stores(\n",
    "              store_id INT PRIMARY KEY,\n",
    "              store_name VARCHAR (255) NOT NULL,\n",
    "              street VARCHAR (255),\n",
    "              city VARCHAR (255),\n",
    "              state VARCHAR (10),\n",
    "              zip_code VARCHAR (5)\n",
    "              );\n",
    "            \"\"\"),\n",
    "\n",
    "    (\"staffs\",\"\"\"CREATE TABLE IF NOT EXISTS Staff(\n",
    "               staff_id INT PRIMARY KEY,\n",
    "               first_name VARCHAR (50) NOT NULL,\n",
    "               last_name VARCHAR (50) NOT NULL,\n",
    "               active INT NOT NULL,\n",
    "               store_id INT NOT NULL,\n",
    "               manager_id INT,\n",
    "               FOREIGN KEY (store_id) REFERENCES stores (store_id) ON DELETE CASCADE ON UPDATE CASCADE,\n",
    "               FOREIGN KEY (manager_id) REFERENCES staff(staff_id) ON DELETE NO ACTION ON UPDATE NO ACTION\n",
    "               );\"\"\"),\n",
    "\n",
    "    (\"categories\",\"\"\"CREATE TABLE IF NOT EXISTS Categories(category_id INT PRIMARY KEY,\n",
    "                 category_name VARCHAR (255) NOT NULL\n",
    "                 );\"\"\"),\n",
    "\n",
    "    (\"brands\",\"\"\"CREATE TABLE IF NOT EXISTS Brands(brand_id INT PRIMARY KEY,\n",
    "                brand_name VARCHAR (255) NOT NULL);\"\"\"),\n",
    "\n",
    "    (\"products\",\"\"\"CREATE TABLE IF NOT EXISTS Products(product_id INT PRIMARY KEY,\n",
    "                 product_name VARCHAR (255) NOT NULL,\n",
    "                 brand_id INT NOT NULL,\n",
    "                 category_id INT NOT NULL,\n",
    "                 model_year SMALLINT NOT NULL,\n",
    "                 list_price DECIMAL (10, 2) NOT NULL,\n",
    "                 FOREIGN KEY (category_id) REFERENCES categories(category_id) ON DELETE CASCADE ON UPDATE CASCADE,\n",
    "                 FOREIGN KEY (brand_id) REFERENCES brands(brand_id) ON DELETE CASCADE ON UPDATE CASCADE\n",
    "                 );\"\"\"),\n",
    "\n",
    "    (\"stocks\",\"\"\"CREATE TABLE IF NOT EXISTS Stocks(store_id INT,\n",
    "                product_id INT,\n",
    "                quantity INT,\n",
    "                PRIMARY KEY (store_id, product_id),\n",
    "                FOREIGN KEY (store_id) REFERENCES stores (store_id) ON DELETE CASCADE ON UPDATE CASCADE,\n",
    "                FOREIGN KEY (product_id) REFERENCES products (product_id) ON DELETE CASCADE ON UPDATE CASCADE)\"\"\")\n",
    "\n",
    "                  }"
   ]
  },
  {
   "cell_type": "code",
   "execution_count": 18,
   "metadata": {},
   "outputs": [
    {
     "name": "stdout",
     "output_type": "stream",
     "text": [
      "Created table: customer_table\n",
      "Failed to create stocks: relation \"stores\" does not exist\n",
      "\n",
      "Failed to create products: relation \"categories\" does not exist\n",
      "\n",
      "Created table: categories\n",
      "Failed to create staffs: relation \"stores\" does not exist\n",
      "\n",
      "Created table: stores\n",
      "Created table: brands\n",
      "Failed to create orders: relation \"staff\" does not exist\n",
      "\n",
      "Failed to create order_items: relation \"orders\" does not exist\n",
      "\n"
     ]
    }
   ],
   "source": [
    "for name, sql in tables:\n",
    "    try:\n",
    "        cur.execute(sql)\n",
    "        conn.commit()\n",
    "        print(f\"Created table: {name}\")\n",
    "    except Exception as e:\n",
    "        print(f\"Failed to create {name}: {e}\")\n",
    "        conn.rollback()"
   ]
  },
  {
   "cell_type": "code",
   "execution_count": 19,
   "metadata": {},
   "outputs": [],
   "source": [
    "from sqlalchemy import create_engine"
   ]
  },
  {
   "cell_type": "code",
   "execution_count": 20,
   "metadata": {},
   "outputs": [],
   "source": [
    "db_host = os.getenv(\"DB_HOST\")\n",
    "db_port = os.getenv(\"DB_PORT\", \"5432\")\n",
    "db_name = os.getenv(\"DB_NAME\")\n",
    "db_user = os.getenv(\"DB_USER\")\n",
    "db_password = os.getenv(\"DB_PASSWORD\")"
   ]
  },
  {
   "cell_type": "code",
   "execution_count": 21,
   "metadata": {},
   "outputs": [],
   "source": [
    "connection_uri = f\"postgresql+psycopg2://{db_user}:{db_password}@{db_host}:{db_port}/{db_name}\""
   ]
  },
  {
   "cell_type": "code",
   "execution_count": 22,
   "metadata": {},
   "outputs": [],
   "source": [
    "engine = create_engine(connection_uri)"
   ]
  },
  {
   "cell_type": "code",
   "execution_count": 23,
   "metadata": {},
   "outputs": [
    {
     "data": {
      "text/plain": [
       "dict_keys(['brands', 'categories', 'customers', 'orders', 'order_items', 'products', 'staffs', 'stocks', 'stores'])"
      ]
     },
     "execution_count": 23,
     "metadata": {},
     "output_type": "execute_result"
    }
   ],
   "source": [
    "df.keys()"
   ]
  },
  {
   "cell_type": "code",
   "execution_count": 24,
   "metadata": {},
   "outputs": [
    {
     "name": "stdout",
     "output_type": "stream",
     "text": [
      " Loaded 9 rows into 'brands'\n",
      " Loaded 7 rows into 'categories'\n",
      " Loaded 1445 rows into 'customers'\n",
      " Loaded 1615 rows into 'orders'\n",
      " Loaded 4722 rows into 'order_items'\n",
      " Loaded 321 rows into 'products'\n",
      " Loaded 10 rows into 'staffs'\n",
      " Loaded 939 rows into 'stocks'\n",
      " Loaded 3 rows into 'stores'\n"
     ]
    }
   ],
   "source": [
    "for table, dfs in df.items():\n",
    "    try:\n",
    "        dfs.to_sql(table, engine, if_exists=\"replace\", index=False)\n",
    "        print(f\" Loaded {len(dfs)} rows into '{table}'\")\n",
    "    except Exception as e:\n",
    "        print(f\" Failed to load '{table}': {e}\")\n"
   ]
  },
  {
   "cell_type": "code",
   "execution_count": 25,
   "metadata": {},
   "outputs": [],
   "source": [
    "conn.close()\n",
    "cur.close()"
   ]
  }
 ],
 "metadata": {
  "kernelspec": {
   "display_name": "Python 3",
   "language": "python",
   "name": "python3"
  },
  "language_info": {
   "codemirror_mode": {
    "name": "ipython",
    "version": 3
   },
   "file_extension": ".py",
   "mimetype": "text/x-python",
   "name": "python",
   "nbconvert_exporter": "python",
   "pygments_lexer": "ipython3",
   "version": "3.12.10"
  }
 },
 "nbformat": 4,
 "nbformat_minor": 2
}
